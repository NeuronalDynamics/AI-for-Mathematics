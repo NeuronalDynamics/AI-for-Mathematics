{
 "cells": [
  {
   "cell_type": "markdown",
   "metadata": {},
   "source": [
    "# Generate Data\n",
    "This is a simple notebook used for generating all the data we will be training our models on. For $1 \\le n \\le 10$, generate CSV data files. The header line should be `parenthesization,valid` and each subsequent row is a parenthesization followed by either `0` or `1`, where `0` denotes invalid and `1` denotes valid.\n",
    "\n",
    "The functions `parenthensizations.valid()` and `parenthesizations.invalid()` have been implemented for you, but make sure to balance the two classes so they have a equal number of data points."
   ]
  },
  {
   "cell_type": "code",
   "execution_count": 1,
   "metadata": {},
   "outputs": [
    {
     "name": "stdout",
     "output_type": "stream",
     "text": [
      "Generated data for n = 1\n",
      "Generated data for n = 2\n",
      "Generated data for n = 3\n",
      "Generated data for n = 4\n",
      "Generated data for n = 5\n",
      "Generated data for n = 6\n",
      "Generated data for n = 7\n",
      "Generated data for n = 8\n",
      "Generated data for n = 9\n"
     ]
    }
   ],
   "source": [
    "import importlib\n",
    "import os\n",
    "import random\n",
    "# Create the data directory if it does not exist\n",
    "os.makedirs(\"data\", exist_ok=True)\n",
    "parenthesizations = importlib.import_module('parenthesizations')\n",
    "\n",
    "for n in range(1, 10):\n",
    "    valid_parenthesizations = parenthesizations.valid(n)\n",
    "    invalid_parenthesizations = list(parenthesizations.invalid(n))\n",
    "\n",
    "    # Ensure the number of invalid parenthesizations matches the number of valid ones\n",
    "    if len(invalid_parenthesizations) > len(valid_parenthesizations):\n",
    "        invalid_parenthesizations = random.sample(invalid_parenthesizations, len(valid_parenthesizations))\n",
    "    elif len(valid_parenthesizations) > len(invalid_parenthesizations):\n",
    "        valid_parenthesizations = random.sample(valid_parenthesizations, len(invalid_parenthesizations))\n",
    "\n",
    "    with open(f\"data/parenthesizations_{n}.csv\", \"w\") as f:\n",
    "        f.write(\"parenthesization,valid\\n\")\n",
    "        # TODO Implement data generation code.\n",
    "        # Write valid parenthesizations\n",
    "        for vp in valid_parenthesizations:\n",
    "            f.write(f\"{vp},1\\n\")\n",
    "        # Write invalid parenthesizations\n",
    "        for ip in invalid_parenthesizations:\n",
    "            f.write(f\"{ip},0\\n\")\n",
    "        print(f\"Generated data for n = {n}\")"
   ]
  }
 ],
 "metadata": {
  "kernelspec": {
   "display_name": "Python 3",
   "language": "python",
   "name": "python3"
  },
  "language_info": {
   "codemirror_mode": {
    "name": "ipython",
    "version": 3
   },
   "file_extension": ".py",
   "mimetype": "text/x-python",
   "name": "python",
   "nbconvert_exporter": "python",
   "pygments_lexer": "ipython3",
   "version": "3.12.3"
  }
 },
 "nbformat": 4,
 "nbformat_minor": 2
}
